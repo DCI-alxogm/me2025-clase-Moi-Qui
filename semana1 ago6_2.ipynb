{
  "nbformat": 4,
  "nbformat_minor": 0,
  "metadata": {
    "colab": {
      "provenance": [],
      "authorship_tag": "ABX9TyNqCwAReP/3mO4FT9KLM7rC",
      "include_colab_link": true
    },
    "kernelspec": {
      "name": "python3",
      "display_name": "Python 3"
    },
    "language_info": {
      "name": "python"
    }
  },
  "cells": [
    {
      "cell_type": "markdown",
      "metadata": {
        "id": "view-in-github",
        "colab_type": "text"
      },
      "source": [
        "<a href=\"https://colab.research.google.com/github/DCI-alxogm/me2025-clase-Moi-Qui/blob/main/semana1%20ago6_2.ipynb\" target=\"_parent\"><img src=\"https://colab.research.google.com/assets/colab-badge.svg\" alt=\"Open In Colab\"/></a>"
      ]
    },
    {
      "cell_type": "code",
      "execution_count": null,
      "metadata": {
        "id": "LraxRcagZKXZ"
      },
      "outputs": [],
      "source": [
        "#segundo cuaderno"
      ]
    },
    {
      "cell_type": "code",
      "source": [
        "print(\"prueba de cuaderno\")"
      ],
      "metadata": {
        "colab": {
          "base_uri": "https://localhost:8080/"
        },
        "id": "HC2boJdGbgGw",
        "outputId": "22a8e712-b39f-4d04-caff-852430c090ca"
      },
      "execution_count": 1,
      "outputs": [
        {
          "output_type": "stream",
          "name": "stdout",
          "text": [
            "prueba de cuaderno\n"
          ]
        }
      ]
    },
    {
      "cell_type": "code",
      "source": [],
      "metadata": {
        "id": "q0PI-HWhboI1"
      },
      "execution_count": null,
      "outputs": []
    }
  ]
}